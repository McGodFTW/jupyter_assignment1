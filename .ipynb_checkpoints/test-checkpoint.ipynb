{
 "cells": [
  {
   "cell_type": "code",
   "execution_count": 2,
   "metadata": {},
   "outputs": [
    {
     "ename": "ModuleNotFoundError",
     "evalue": "No module named 'numpy'",
     "output_type": "error",
     "traceback": [
      "\u001b[0;31m---------------------------------------------------------------------------\u001b[0m",
      "\u001b[0;31mModuleNotFoundError\u001b[0m                       Traceback (most recent call last)",
      "Cell \u001b[0;32mIn [2], line 1\u001b[0m\n\u001b[0;32m----> 1\u001b[0m \u001b[38;5;28;01mimport\u001b[39;00m \u001b[38;5;21;01mnumpy\u001b[39;00m \u001b[38;5;28;01mas\u001b[39;00m \u001b[38;5;21;01mnp\u001b[39;00m\n\u001b[1;32m      2\u001b[0m d \u001b[38;5;241m=\u001b[39m [\u001b[38;5;241m2\u001b[39m, \u001b[38;5;241m4\u001b[39m, \u001b[38;5;241m6\u001b[39m, \u001b[38;5;241m8\u001b[39m, \u001b[38;5;124m'\u001b[39m\u001b[38;5;124mMonday\u001b[39m\u001b[38;5;124m'\u001b[39m, \u001b[38;5;124m'\u001b[39m\u001b[38;5;124mTuesday\u001b[39m\u001b[38;5;124m'\u001b[39m]\n\u001b[1;32m      3\u001b[0m d\u001b[38;5;241m.\u001b[39minsert(\u001b[38;5;241m2\u001b[39m, \u001b[38;5;241m100\u001b[39m)\n",
      "\u001b[0;31mModuleNotFoundError\u001b[0m: No module named 'numpy'"
     ]
    }
   ],
   "source": [
    "import numpy as np\n",
    "d = [2, 4, 6, 8, 'Monday', 'Tuesday']\n",
    "d.insert(2, 100)\n",
    "for x in d:\n",
    "    print(type(x), end = '\\t')\n",
    "\n",
    "d2 = ['Wednesday', 'Thursday', 'Friday']\n",
    "d += d2\n",
    "print('\\n', d)\n",
    "print('My favourite day of the week is ', d.pop())\n",
    "\n",
    "\n",
    "\n",
    "\n",
    "d=np.linspace(0, 35, 10)\n",
    "d=d.reshape(5,2)\n",
    "\n",
    "m=np.mean(d, axis=0)\n",
    "m=np.around(m, decimals=2)\n",
    "\n",
    "print(\"Mean Is : \")\n",
    "print(m)\n",
    "\n",
    "print(\"\\nRows are:\")\n",
    "\n",
    "for i in d:\n",
    "    print(np.round(i,2))\n",
    "print(\"\\n2nd Columns is:\")\n",
    "\n",
    "print((np.round(d[:,1], 2))) \n"
   ]
  },
  {
   "cell_type": "code",
   "execution_count": null,
   "metadata": {},
   "outputs": [],
   "source": []
  }
 ],
 "metadata": {
  "kernelspec": {
   "display_name": "Python 3 (ipykernel)",
   "language": "python",
   "name": "python3"
  },
  "language_info": {
   "codemirror_mode": {
    "name": "ipython",
    "version": 3
   },
   "file_extension": ".py",
   "mimetype": "text/x-python",
   "name": "python",
   "nbconvert_exporter": "python",
   "pygments_lexer": "ipython3",
   "version": "3.9.7"
  },
  "pycharm": {
   "stem_cell": {
    "cell_type": "raw",
    "metadata": {
     "collapsed": false
    },
    "source": [
     "import numpy as np\n",
     "d = [2, 4, 6, 8, 'Monday', 'Tuesday']\n",
     "d.insert(2, 100)\n",
     "for x in d:\n",
     "    print(type(x), end = '\\t')\n",
     "\n",
     "d2 = ['Wednesday', 'Thursday', 'Friday']\n",
     "d += d2\n",
     "print('\\n', d)\n",
     "print('My favourite day of the week is ', d.pop())\n",
     "\n",
     "\n",
     "\n",
     "\n",
     "d=np.linspace(0, 35, 10)\n",
     "d=d.reshape(5,2)\n",
     "\n",
     "m=np.mean(d, axis=0)\n",
     "m=np.around(m, decimals=2)\n",
     "\n",
     "print(\"Mean Is : \")\n",
     "print(m)\n",
     "\n",
     "print(\"\\nRows are:\")\n",
     "\n",
     "for i in d:\n",
     "    print(np.round(i,2))\n",
     "print(\"\\n2nd Columns is:\")\n",
     "\n",
     "print((np.round(d[:,1], 2)))\n"
    ]
   }
  }
 },
 "nbformat": 4,
 "nbformat_minor": 1
}
